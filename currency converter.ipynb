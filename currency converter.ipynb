{
 "cells": [
  {
   "cell_type": "code",
   "execution_count": 1,
   "id": "674ac008",
   "metadata": {},
   "outputs": [
    {
     "name": "stdout",
     "output_type": "stream",
     "text": [
      "Requirement already satisfied: forex_python in c:\\users\\nitin\\appdata\\local\\anaconda3\\lib\\site-packages (1.8)\n",
      "Requirement already satisfied: requests in c:\\users\\nitin\\appdata\\local\\anaconda3\\lib\\site-packages (from forex_python) (2.28.1)\n",
      "Requirement already satisfied: simplejson in c:\\users\\nitin\\appdata\\local\\anaconda3\\lib\\site-packages (from forex_python) (3.19.2)\n",
      "Requirement already satisfied: urllib3<1.27,>=1.21.1 in c:\\users\\nitin\\appdata\\local\\anaconda3\\lib\\site-packages (from requests->forex_python) (1.26.14)\n",
      "Requirement already satisfied: certifi>=2017.4.17 in c:\\users\\nitin\\appdata\\local\\anaconda3\\lib\\site-packages (from requests->forex_python) (2022.12.7)\n",
      "Requirement already satisfied: idna<4,>=2.5 in c:\\users\\nitin\\appdata\\local\\anaconda3\\lib\\site-packages (from requests->forex_python) (3.4)\n",
      "Requirement already satisfied: charset-normalizer<3,>=2 in c:\\users\\nitin\\appdata\\local\\anaconda3\\lib\\site-packages (from requests->forex_python) (2.0.4)\n",
      "Note: you may need to restart the kernel to use updated packages.\n"
     ]
    }
   ],
   "source": [
    "pip install forex_python"
   ]
  },
  {
   "cell_type": "code",
   "execution_count": 2,
   "id": "4fdd7a24",
   "metadata": {},
   "outputs": [
    {
     "name": "stdout",
     "output_type": "stream",
     "text": [
      "Enter the amount: 5000\n",
      "From Currency: USD\n",
      "To Currency : INR\n",
      "USD  To  INR 5000\n"
     ]
    },
    {
     "ename": "RatesNotAvailableError",
     "evalue": "Currency Rates Source Not Ready",
     "output_type": "error",
     "traceback": [
      "\u001b[1;31m---------------------------------------------------------------------------\u001b[0m",
      "\u001b[1;31mRatesNotAvailableError\u001b[0m                    Traceback (most recent call last)",
      "Cell \u001b[1;32mIn[2], line 8\u001b[0m\n\u001b[0;32m      5\u001b[0m To_Currency \u001b[38;5;241m=\u001b[39m \u001b[38;5;28minput\u001b[39m(\u001b[38;5;124m\"\u001b[39m\u001b[38;5;124mTo Currency : \u001b[39m\u001b[38;5;124m\"\u001b[39m)\u001b[38;5;241m.\u001b[39mupper()\n\u001b[0;32m      7\u001b[0m \u001b[38;5;28mprint\u001b[39m(From_Currency, \u001b[38;5;124m\"\u001b[39m\u001b[38;5;124m To \u001b[39m\u001b[38;5;124m\"\u001b[39m, To_Currency,Amount)\n\u001b[1;32m----> 8\u001b[0m result \u001b[38;5;241m=\u001b[39m \u001b[43mc\u001b[49m\u001b[38;5;241;43m.\u001b[39;49m\u001b[43mconvert\u001b[49m\u001b[43m(\u001b[49m\u001b[43mFrom_Currency\u001b[49m\u001b[43m,\u001b[49m\u001b[43m \u001b[49m\u001b[43mTo_Currency\u001b[49m\u001b[43m,\u001b[49m\u001b[43m \u001b[49m\u001b[43mAmount\u001b[49m\u001b[43m)\u001b[49m\n\u001b[0;32m      9\u001b[0m \u001b[38;5;28mprint\u001b[39m(result)\n",
      "File \u001b[1;32m~\\AppData\\Local\\anaconda3\\lib\\site-packages\\forex_python\\converter.py:108\u001b[0m, in \u001b[0;36mCurrencyRates.convert\u001b[1;34m(self, base_cur, dest_cur, amount, date_obj)\u001b[0m\n\u001b[0;32m    105\u001b[0m     \u001b[38;5;28;01mexcept\u001b[39;00m \u001b[38;5;167;01mTypeError\u001b[39;00m:\n\u001b[0;32m    106\u001b[0m         \u001b[38;5;28;01mraise\u001b[39;00m DecimalFloatMismatchError(\n\u001b[0;32m    107\u001b[0m             \u001b[38;5;124m\"\u001b[39m\u001b[38;5;124mconvert requires amount parameter is of type Decimal when force_decimal=True\u001b[39m\u001b[38;5;124m\"\u001b[39m)\n\u001b[1;32m--> 108\u001b[0m \u001b[38;5;28;01mraise\u001b[39;00m RatesNotAvailableError(\u001b[38;5;124m\"\u001b[39m\u001b[38;5;124mCurrency Rates Source Not Ready\u001b[39m\u001b[38;5;124m\"\u001b[39m)\n",
      "\u001b[1;31mRatesNotAvailableError\u001b[0m: Currency Rates Source Not Ready"
     ]
    }
   ],
   "source": [
    "from forex_python.converter import CurrencyRates\n",
    "c = CurrencyRates()\n",
    "Amount = int(input(\"Enter the amount: \"))\n",
    "From_Currency = input(\"From Currency: \").upper()\n",
    "To_Currency = input(\"To Currency : \").upper()\n",
    "\n",
    "print(From_Currency, \" To \", To_Currency,Amount)\n",
    "result = c.convert(From_Currency, To_Currency, Amount)\n",
    "print(result)\n"
   ]
  },
  {
   "cell_type": "code",
   "execution_count": null,
   "id": "3f846dd4",
   "metadata": {},
   "outputs": [],
   "source": []
  }
 ],
 "metadata": {
  "kernelspec": {
   "display_name": "Python 3 (ipykernel)",
   "language": "python",
   "name": "python3"
  },
  "language_info": {
   "codemirror_mode": {
    "name": "ipython",
    "version": 3
   },
   "file_extension": ".py",
   "mimetype": "text/x-python",
   "name": "python",
   "nbconvert_exporter": "python",
   "pygments_lexer": "ipython3",
   "version": "3.10.9"
  }
 },
 "nbformat": 4,
 "nbformat_minor": 5
}
